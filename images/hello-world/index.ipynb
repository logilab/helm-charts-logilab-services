{
 "cells": [
  {
   "cell_type": "code",
   "execution_count": null,
   "id": "614e6e2f-14f6-467b-9cf3-e8d21379621d",
   "metadata": {},
   "outputs": [],
   "source": [
    "print(\"HELLO\")"
   ]
  }
 ],
 "metadata": {
  "kernelspec": {
   "display_name": "Python 3 (ipykernel)",
   "language": "python",
   "name": "python3"
  },
  "language_info": {
   "codemirror_mode": {
    "name": "ipython",
    "version": 3
   },
   "file_extension": ".py",
   "mimetype": "text/x-python",
   "name": "python",
   "nbconvert_exporter": "python",
   "pygments_lexer": "ipython3",
   "version": "3.9.0"
  }
 },
 "nbformat": 4,
 "nbformat_minor": 5
}
